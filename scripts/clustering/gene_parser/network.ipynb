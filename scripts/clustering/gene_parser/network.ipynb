{
 "cells": [
  {
   "cell_type": "code",
   "execution_count": null,
   "metadata": {},
   "outputs": [],
   "source": [
    "from parser import get_files_in_folder, parse_gene_sequences\n",
    "from damerau_levenshtein import damerau_levenshtein\n",
    "from gen_algo import crossover, mutate"
   ]
  },
  {
   "cell_type": "code",
   "execution_count": null,
   "metadata": {},
   "outputs": [],
   "source": [
    "import matplotlib.pyplot as plt\n",
    "import numpy as np\n",
    "import pandas as pd\n",
    "import seaborn as sns\n",
    "\n",
    "import os, sys"
   ]
  },
  {
   "cell_type": "code",
   "execution_count": null,
   "metadata": {},
   "outputs": [],
   "source": [
    "from sklearn.preprocessing import StandardScaler, MinMaxScaler\n",
    "from sklearn.decomposition import PCA\n",
    "from keras.models import Sequential\n",
    "from keras.layers import Dense\n",
    "from keras.optimizers import Adam\n",
    "from sklearn.cluster import KMeans, HDBSCAN, DBSCAN\n",
    "from sklearn.metrics import silhouette_score\n",
    "from sklearn.model_selection import ParameterGrid\n",
    "from keras.utils import to_categorical"
   ]
  },
  {
   "cell_type": "code",
   "execution_count": null,
   "metadata": {},
   "outputs": [],
   "source": [
    "dataset = pd.read_csv('dataset copy.csv', sep=';')\n",
    "\n",
    "x = dataset.iloc[:, 1:].values\n",
    "y = dataset.iloc[:, 0].values"
   ]
  },
  {
   "cell_type": "code",
   "execution_count": null,
   "metadata": {},
   "outputs": [],
   "source": [
    "pca = PCA(n_components=3)\n",
    "x_pca = pca.fit_transform(x)\n",
    "\n",
    "scaler = StandardScaler()\n",
    "x_scaled = scaler.fit_transform(x_pca)"
   ]
  },
  {
   "cell_type": "code",
   "execution_count": null,
   "metadata": {},
   "outputs": [],
   "source": [
    "# implementing silhoutte score\n",
    "params = [2, 3, 4, 5, 6, 7, 8, 9, 10]\n",
    "paramGrid = ParameterGrid({'n_clusters': params})\n",
    "\n",
    "best_score = -1\n",
    "\n",
    "silhouette_scores = []\n",
    "\n",
    "kmeans = KMeans()\n",
    "\n",
    "for p in paramGrid:\n",
    "\tkmeans.set_params(**p)\n",
    "\tkmeans.fit(x_pca)\n",
    "\n",
    "\tsilScore = silhouette_score(x_pca, kmeans.labels_, random_state=0)\n",
    "\tsilhouette_scores.append(silScore)\n",
    "\n",
    "\tprint('Parameter: ', p, 'Score: ', silScore)\n",
    "\n",
    "\tif silScore > best_score:\n",
    "\t\tbest_score = silScore\n",
    "\t\tbest_grid = p"
   ]
  },
  {
   "cell_type": "code",
   "execution_count": null,
   "metadata": {},
   "outputs": [],
   "source": [
    "# plot the silhouette scores\n",
    "plt.bar(range(len(silhouette_scores)), silhouette_scores, tick_label=list(params))\n",
    "plt.xticks(range(len(silhouette_scores)), params)\n",
    "plt.title('Silhouette Scores for Different Parameters')\n",
    "plt.xlabel('nb of clusters')\n",
    "\n",
    "plt.show()"
   ]
  },
  {
   "cell_type": "code",
   "execution_count": null,
   "metadata": {},
   "outputs": [],
   "source": [
    "print('Best grid: ', best_grid['n_clusters'], 'Best score: ', best_score)\n",
    "\n",
    "y_pred = KMeans(n_clusters=best_grid['n_clusters'], random_state=0).fit_predict(x)\n",
    "\n",
    "km = KMeans(n_clusters=best_grid['n_clusters'], random_state=0).fit(x)\n",
    "y_kmeans = km.predict(x_pca)\n",
    "\n",
    "plt.scatter(x_pca[:, 0], x_pca[:, 1], c=kmeans.labels_)\n",
    "\n",
    "# legend\n",
    "for i in range(best_grid['n_clusters']):\n",
    "\tplt.scatter([], [], color=plt.cm.tab10(i), label=f'Cluster {i}')\n",
    "plt.legend()\n",
    "\n",
    "plt.title('PCA')\n",
    "plt.xlabel('PCA1')\n",
    "plt.ylabel('PCA2')\n",
    "plt.show()\n",
    "\n",
    "# 3D plot\n",
    "from mpl_toolkits.mplot3d import Axes3D\n",
    "fig = plt.figure()\n",
    "ax = fig.add_subplot(111, projection='3d')\n",
    "# ax.view_init(azim=0)\n",
    "ax.scatter(x_pca[:, 0], x_pca[:, 1], x_pca[:, 2], c=kmeans.labels_)\n",
    "# legend\n",
    "for i in range(best_grid['n_clusters']):\n",
    "\tax.scatter([], [], [], color=plt.cm.tab10(i), label=f'Cluster {i}')\n",
    "ax.legend()\n",
    "ax.set_title('3D PCA')\n",
    "ax.set_xlabel('PCA1')\n",
    "ax.set_ylabel('PCA2')\n",
    "ax.set_zlabel('PCA3')\n",
    "plt.show()"
   ]
  },
  {
   "cell_type": "code",
   "execution_count": null,
   "metadata": {},
   "outputs": [],
   "source": [
    "# from mpl_toolkits.mplot3d import Axes3D\n",
    "\n",
    "# pca_3d = PCA(n_components=3)\n",
    "# X_encoded_3d = pca_3d.fit_transform(X_encoded)\n",
    "\n",
    "# fig = plt.figure(figsize=(8, 6))\n",
    "# ax = fig.add_subplot(111, projection='3d')\n",
    "\n",
    "# # Use y_pred from kmeans clustering on X_encoded\n",
    "# for i in np.unique(y_pred):\n",
    "# \tax.scatter(\n",
    "# \t\tX_encoded_3d[y_pred == i, 0],\n",
    "# \t\tX_encoded_3d[y_pred == i, 1],\n",
    "# \t\tX_encoded_3d[y_pred == i, 2],\n",
    "# \t\ts=40,\n",
    "# \t\tlabel=f'Cluster {i}'\n",
    "# \t)\n",
    "\n",
    "# ax.set_title('3D Representation of Clusters')\n",
    "# ax.set_xlabel('PC1')\n",
    "# ax.set_ylabel('PC2')\n",
    "# ax.set_zlabel('PC3')\n",
    "# ax.legend()\n",
    "# plt.show()"
   ]
  },
  {
   "cell_type": "code",
   "execution_count": null,
   "metadata": {},
   "outputs": [],
   "source": [
    "# ax = plt.gca()\n",
    "# ax.set_xlim([-200, 450])\n",
    "# ax.set_ylim([-100, 80])\n",
    "\n",
    "plt.scatter(x_pca[y_kmeans == 0, 0], x_pca[y_kmeans == 0, 1], s=50, c='red', label='Cluster 1')\n",
    "plt.scatter(x_pca[y_kmeans == 1, 0], x_pca[y_kmeans == 1, 1], s=50, c='blue', label='Cluster 2')\n",
    "plt.scatter(x_pca[y_kmeans == 2, 0], x_pca[y_kmeans == 2, 1], s=50, c='green', label='Cluster 3')\n",
    "# name the axes\n",
    "plt.xlabel('X')\n",
    "plt.ylabel('Y')\n",
    "plt.title('Clusters of proteins')\n",
    "plt.legend()\n",
    "\n",
    "plt.show()\n",
    "\n",
    "# 3D plot\n",
    "fig = plt.figure()\n",
    "ax = fig.add_subplot(111, projection='3d')\n",
    "ax.scatter(x[:, 0], x[:, 1], x[:, 2], c=y_kmeans, s=50, cmap='viridis')\n",
    "# name the axes\n",
    "ax.set_xlabel('PCA1')\n",
    "ax.set_ylabel('PCA2')\n",
    "ax.set_zlabel('PCA3')\n",
    "plt.title('3D Clusters of Proteins')\n",
    "plt.show()\n"
   ]
  },
  {
   "cell_type": "code",
   "execution_count": null,
   "metadata": {},
   "outputs": [],
   "source": [
    "hdb = HDBSCAN()\n",
    "hdb.fit(x)\n",
    "hdb_labels = hdb.labels_"
   ]
  },
  {
   "cell_type": "code",
   "execution_count": null,
   "metadata": {},
   "outputs": [],
   "source": [
    "# print max number of clusters found by HDBSCAN\n",
    "print('Max number of clusters found by HDBSCAN: ', len(np.unique(hdb_labels)))\n",
    "\n",
    "# ax = plt.gca()\n",
    "# ax.set_ylim([-10, 20])\n",
    "# ax.set_xlim([-10, 20])\n",
    "\n",
    "for i in np.unique(hdb_labels):\n",
    "\tplt.scatter(x[hdb_labels == i, 0], x[hdb_labels == i, 1], s=50, label='Cluster ' + str(i))\n",
    "\n",
    "# plt.legend()\n",
    "\n",
    "plt.title('Clusters of proteins')\n",
    "plt.xlabel\n",
    "plt.ylabel('Y')\n",
    "\n",
    "# plt.legend()\n",
    "plt.show()"
   ]
  },
  {
   "cell_type": "code",
   "execution_count": null,
   "metadata": {},
   "outputs": [],
   "source": [
    "# Définir un modèle autoencodeur pour le clustering\n",
    "model = Sequential()\n",
    "model.add(Dense(64, activation='relu', input_shape=(x.shape[1],)))\n",
    "model.add(Dense(32, activation='relu'))\n",
    "model.add(Dense(16, activation='relu'))\n",
    "model.add(Dense(32, activation='relu'))\n",
    "model.add(Dense(64, activation='relu'))\n",
    "model.add(Dense(x.shape[1], activation='sigmoid'))\n",
    "\n",
    "# Compiler le modèle avec une fonction de perte adaptée\n",
    "model.compile(optimizer='adam', loss='mean_squared_error', metrics=['accuracy'])\n",
    "\n",
    "# Afficher le résumé du modèle\n",
    "model.summary()\n",
    "                                                                       \n",
    "# Entraînement du modèle (Autoencodeur)\n",
    "history = model.fit(x, x, epochs=100, batch_size=16, verbose=0)\n",
    "\n",
    "# Afficher l'évolution de la fonction de perte\n",
    "plt.plot(history.history['loss'])\n",
    "plt.title('Model loss')\n",
    "plt.ylabel('Loss')\n",
    "plt.xlabel('Epoch')\n",
    "\n",
    "plt.show()\n",
    "\n",
    "# Afficher l'évolution de la précision\n",
    "plt.plot(history.history['accuracy'])\n",
    "plt.title('Model accuracy')\n",
    "plt.ylabel('Accuracy')\n",
    "plt.xlabel('Epoch')\n",
    "\n",
    "plt.show()"
   ]
  },
  {
   "cell_type": "code",
   "execution_count": null,
   "metadata": {},
   "outputs": [],
   "source": [
    "# clustering\n",
    "encoder = Sequential()\n",
    "encoder.add(model.layers[0])\n",
    "encoder.add(model.layers[1])\n",
    "encoder.add(model.layers[2])\n",
    "\n",
    "X_encoded = encoder.predict(x)"
   ]
  },
  {
   "cell_type": "code",
   "execution_count": null,
   "metadata": {},
   "outputs": [],
   "source": [
    "# clustering\n",
    "kmeans = KMeans(n_clusters=2, random_state=0)\n",
    "y_pred = kmeans.fit_predict(X_encoded)\n",
    "\n",
    "# ax = plt.gca()\n",
    "# ax.set_xlim([-5, 50])\n",
    "# ax.set_ylim([-5, 30])\n",
    "\n",
    "# Afficher les résultats du clustering\n",
    "for i in range(2):\n",
    "\tplt.scatter(X_encoded[y_pred == i, 0], X_encoded[y_pred == i, 1], s=50, label='Cluster ' + str(i))\n",
    "\n",
    "plt.title('Clusters of Proteins')\n",
    "plt.xlabel('X1')\n",
    "plt.ylabel('X2')\n",
    "plt.legend()\n",
    "\n",
    "plt.show()"
   ]
  },
  {
   "cell_type": "code",
   "execution_count": null,
   "metadata": {},
   "outputs": [],
   "source": [
    "dbscan_2 = DBSCAN(min_samples=5)\n",
    "dbscan_labels_2 = dbscan_2.fit_predict(X_encoded)\n",
    "\n",
    "# print max number of clusters found by DBSCAN\n",
    "print('Max number of clusters found by HDBSCAN: ', len(np.unique(dbscan_labels_2)))\n",
    "\n",
    "# ax = plt.gca()\n",
    "# ax.set_xlim([-20, 50])\n",
    "# ax.set_ylim([-30, 20])\n",
    "\n",
    "for i in range(len(np.unique(dbscan_labels_2))):\n",
    "\tplt.scatter(X_encoded[dbscan_labels_2 == i, 0], X_encoded[dbscan_labels_2 == i, 1], s=50, label='Cluster ' + str(i))\n",
    "\n",
    "plt.title('Clusters of Proteins')\n",
    "plt.xlabel('X1')\n",
    "plt.ylabel('X2')\n",
    "# plt.legend()\n",
    "plt.show()"
   ]
  }
 ],
 "metadata": {
  "kernelspec": {
   "display_name": "Python 3",
   "language": "python",
   "name": "python3"
  },
  "language_info": {
   "codemirror_mode": {
    "name": "ipython",
    "version": 3
   },
   "file_extension": ".py",
   "mimetype": "text/x-python",
   "name": "python",
   "nbconvert_exporter": "python",
   "pygments_lexer": "ipython3",
   "version": "3.10.7"
  }
 },
 "nbformat": 4,
 "nbformat_minor": 2
}

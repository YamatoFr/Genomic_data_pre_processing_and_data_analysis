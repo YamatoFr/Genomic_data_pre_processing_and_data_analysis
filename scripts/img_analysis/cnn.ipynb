{
 "cells": [
  {
   "cell_type": "code",
   "execution_count": 7,
   "metadata": {},
   "outputs": [],
   "source": [
    "import numpy as np\n",
    "import pandas as pd\n",
    "import os\n",
    "import re\n",
    "import shutil\n",
    "\n",
    "from keras.models import Sequential\n",
    "from keras.layers import Conv2D, MaxPooling2D, Flatten, Dense, Dropout\n",
    "from keras.utils import to_categorical\n",
    "from keras.preprocessing.image import ImageDataGenerator\n",
    "\n",
    "import cv2\n",
    "from PIL import Image\n",
    "import matplotlib.pyplot as plt\n",
    "import matplotlib.image as mpimg"
   ]
  },
  {
   "cell_type": "code",
   "execution_count": 8,
   "metadata": {},
   "outputs": [],
   "source": [
    "IMG_FOLDER = 'images\\\\100px\\Chargaff-Diversite-NucleScore'\n",
    "\n",
    "IMG_SHAPE = (10, 10)"
   ]
  },
  {
   "cell_type": "code",
   "execution_count": 9,
   "metadata": {},
   "outputs": [
    {
     "name": "stdout",
     "output_type": "stream",
     "text": [
      "Found 5419 images belonging to 5 classes.\n",
      "Found 1352 images belonging to 5 classes.\n"
     ]
    }
   ],
   "source": [
    "data = ImageDataGenerator(rescale=1./255, validation_split=0.2)\n",
    "train_generator = data.flow_from_directory(\n",
    "\tIMG_FOLDER,\n",
    "\ttarget_size=IMG_SHAPE,\n",
    "\tbatch_size=32,\n",
    "\tclass_mode='categorical',\n",
    "\tsubset='training',\n",
    "\tshuffle=True\n",
    ")\n",
    "validation_generator = data.flow_from_directory(\n",
    "\tIMG_FOLDER,\n",
    "\ttarget_size=IMG_SHAPE,\n",
    "\tbatch_size=32,\n",
    "\tclass_mode='categorical',\n",
    "\tsubset='validation',\n",
    "\tshuffle=True\n",
    ")"
   ]
  },
  {
   "cell_type": "code",
   "execution_count": 10,
   "metadata": {},
   "outputs": [],
   "source": [
    "# resize images from 2x2 to 32x32\n",
    "# for i in range(len(train_generator.filenames)):\n",
    "# \timg = Image.open(os.path.join(IMG_FOLDER, train_generator.filenames[i]))\n",
    "# \timg_resized = img.resize((32, 32))\n",
    "# \t# img_resized.show()  # Display the resized image without saving\n",
    "\n",
    "# for i in range(len(validation_generator.filenames)):\n",
    "# \timg = Image.open(os.path.join(IMG_FOLDER, validation_generator.filenames[i]))\n",
    "# \timg_resized = img.resize((32, 32))\n",
    "# \t# img_resized.show()  # Display the resized image without saving"
   ]
  },
  {
   "cell_type": "code",
   "execution_count": 11,
   "metadata": {},
   "outputs": [
    {
     "name": "stdout",
     "output_type": "stream",
     "text": [
      "(32, 10, 10, 3) (32, 5)\n",
      "['East Asian' 'East-African Indian' 'Euro-American' 'Indo-Oceanic' '_M_']\n"
     ]
    }
   ],
   "source": [
    "# processing the classes\n",
    "img_batch, labels_batch = next(train_generator)\n",
    "print(img_batch.shape, labels_batch.shape)\n",
    "\n",
    "data_labels = sorted(train_generator.class_indices.items(), key=lambda x: x[1])\n",
    "data_labels = np.array([key.title() for key, value in data_labels])\n",
    "print(data_labels)"
   ]
  },
  {
   "cell_type": "code",
   "execution_count": 12,
   "metadata": {},
   "outputs": [
    {
     "name": "stdout",
     "output_type": "stream",
     "text": [
      "Epoch 1/20\n",
      "170/170 [==============================] - 3s 14ms/step - loss: 1.0155 - accuracy: 0.6426 - val_loss: 0.9441 - val_accuracy: 0.6516\n",
      "Epoch 2/20\n",
      "170/170 [==============================] - 2s 13ms/step - loss: 0.7868 - accuracy: 0.7335 - val_loss: 0.5761 - val_accuracy: 0.8247\n",
      "Epoch 3/20\n",
      "170/170 [==============================] - 2s 13ms/step - loss: 0.4262 - accuracy: 0.8695 - val_loss: 0.4160 - val_accuracy: 0.8543\n",
      "Epoch 4/20\n",
      "170/170 [==============================] - 2s 13ms/step - loss: 0.3272 - accuracy: 0.8950 - val_loss: 0.3626 - val_accuracy: 0.8824\n",
      "Epoch 5/20\n",
      "170/170 [==============================] - 2s 14ms/step - loss: 0.2564 - accuracy: 0.9205 - val_loss: 0.3381 - val_accuracy: 0.8994\n",
      "Epoch 6/20\n",
      "170/170 [==============================] - 2s 14ms/step - loss: 0.2270 - accuracy: 0.9349 - val_loss: 0.3388 - val_accuracy: 0.9090\n",
      "Epoch 7/20\n",
      "170/170 [==============================] - 2s 14ms/step - loss: 0.2099 - accuracy: 0.9385 - val_loss: 0.3470 - val_accuracy: 0.9075\n",
      "Epoch 8/20\n",
      "170/170 [==============================] - 2s 13ms/step - loss: 0.1982 - accuracy: 0.9469 - val_loss: 0.3314 - val_accuracy: 0.9075\n",
      "Epoch 9/20\n",
      "170/170 [==============================] - 2s 14ms/step - loss: 0.1813 - accuracy: 0.9555 - val_loss: 0.3376 - val_accuracy: 0.9201\n",
      "Epoch 10/20\n",
      "170/170 [==============================] - 2s 13ms/step - loss: 0.1749 - accuracy: 0.9574 - val_loss: 0.3513 - val_accuracy: 0.9216\n",
      "Epoch 11/20\n",
      "170/170 [==============================] - 2s 13ms/step - loss: 0.1714 - accuracy: 0.9600 - val_loss: 0.3617 - val_accuracy: 0.9231\n",
      "Epoch 12/20\n",
      "170/170 [==============================] - 2s 13ms/step - loss: 0.1626 - accuracy: 0.9603 - val_loss: 0.3233 - val_accuracy: 0.9186\n",
      "Epoch 13/20\n",
      "170/170 [==============================] - 2s 13ms/step - loss: 0.1620 - accuracy: 0.9622 - val_loss: 0.3444 - val_accuracy: 0.9238\n",
      "Epoch 14/20\n",
      "170/170 [==============================] - 2s 13ms/step - loss: 0.1465 - accuracy: 0.9627 - val_loss: 0.3263 - val_accuracy: 0.9231\n",
      "Epoch 15/20\n",
      "170/170 [==============================] - 2s 13ms/step - loss: 0.1500 - accuracy: 0.9657 - val_loss: 0.3376 - val_accuracy: 0.9231\n",
      "Epoch 16/20\n",
      "170/170 [==============================] - 2s 13ms/step - loss: 0.1441 - accuracy: 0.9660 - val_loss: 0.3283 - val_accuracy: 0.9223\n",
      "Epoch 17/20\n",
      "170/170 [==============================] - 2s 13ms/step - loss: 0.1398 - accuracy: 0.9649 - val_loss: 0.3221 - val_accuracy: 0.9231\n",
      "Epoch 18/20\n",
      "170/170 [==============================] - 2s 13ms/step - loss: 0.1370 - accuracy: 0.9640 - val_loss: 0.3248 - val_accuracy: 0.9231\n",
      "Epoch 19/20\n",
      "170/170 [==============================] - 2s 12ms/step - loss: 0.1368 - accuracy: 0.9670 - val_loss: 0.3143 - val_accuracy: 0.9238\n",
      "Epoch 20/20\n",
      "170/170 [==============================] - 2s 12ms/step - loss: 0.1336 - accuracy: 0.9670 - val_loss: 0.2943 - val_accuracy: 0.9231\n"
     ]
    }
   ],
   "source": [
    "# build a simple CNN model for image classification\n",
    "model = Sequential()\n",
    "model.add(Conv2D(32, (3, 3), activation='relu', input_shape=(10, 10, 3)))\n",
    "model.add(MaxPooling2D((2, 2)))\n",
    "model.add(Conv2D(64, (3, 3), activation='relu'))\n",
    "model.add(MaxPooling2D((2, 2)))\n",
    "model.add(Flatten())\n",
    "model.add(Dense(128, activation='relu'))\n",
    "model.add(Dropout(0.5))\n",
    "model.add(Dense(len(data_labels), activation='softmax'))\n",
    "\n",
    "model.compile(optimizer='adam', loss='categorical_crossentropy', metrics=['accuracy'])\n",
    "\n",
    "# train the model\n",
    "history = model.fit(\n",
    "\ttrain_generator,\n",
    "\tsteps_per_epoch=len(train_generator),\n",
    "\tvalidation_data=validation_generator,\n",
    "\tvalidation_steps=len(validation_generator),\n",
    "\tepochs=20,\n",
    "\tverbose=1\n",
    ")"
   ]
  },
  {
   "cell_type": "code",
   "execution_count": 13,
   "metadata": {},
   "outputs": [
    {
     "name": "stdout",
     "output_type": "stream",
     "text": [
      "43/43 [==============================] - 0s 10ms/step - loss: 0.2943 - accuracy: 0.9231\n",
      "Test accuracy: 0.9230769276618958\n"
     ]
    }
   ],
   "source": [
    "# evaluate the model on the test set\n",
    "test_loss, test_acc = model.evaluate(validation_generator, steps=len(validation_generator))\n",
    "print('Test accuracy:', test_acc)"
   ]
  },
  {
   "cell_type": "code",
   "execution_count": 14,
   "metadata": {},
   "outputs": [
    {
     "name": "stdout",
     "output_type": "stream",
     "text": [
      "43/43 [==============================] - 1s 11ms/step\n"
     ]
    },
    {
     "data": {
      "application/vnd.microsoft.datawrangler.viewer.v0+json": {
       "columns": [
        {
         "name": "index",
         "rawType": "int64",
         "type": "integer"
        },
        {
         "name": "East Asian",
         "rawType": "float32",
         "type": "float"
        },
        {
         "name": "East-African Indian",
         "rawType": "float32",
         "type": "float"
        },
        {
         "name": "Euro-American",
         "rawType": "float32",
         "type": "float"
        },
        {
         "name": "Indo-Oceanic",
         "rawType": "float32",
         "type": "float"
        },
        {
         "name": "_M_",
         "rawType": "float32",
         "type": "float"
        }
       ],
       "conversionMethod": "pd.DataFrame",
       "ref": "437c20fc-d982-4fdb-ad44-d1450319bdf8",
       "rows": [
        [
         "0",
         "0.99779093",
         "0.0011666814",
         "0.00095012673",
         "9.227265e-05",
         "1.2266575e-08"
        ],
        [
         "1",
         "0.00056977896",
         "0.028966285",
         "0.6392731",
         "0.011406375",
         "0.31978452"
        ],
        [
         "2",
         "6.576134e-05",
         "0.00016230192",
         "0.9997712",
         "6.8255126e-08",
         "6.604618e-07"
        ],
        [
         "3",
         "0.00077000924",
         "0.0025023932",
         "0.9967141",
         "2.8798631e-06",
         "1.0540583e-05"
        ],
        [
         "4",
         "0.0009632741",
         "0.005340678",
         "0.9934116",
         "5.6377852e-05",
         "0.00022803892"
        ]
       ],
       "shape": {
        "columns": 5,
        "rows": 5
       }
      },
      "text/html": [
       "<div>\n",
       "<style scoped>\n",
       "    .dataframe tbody tr th:only-of-type {\n",
       "        vertical-align: middle;\n",
       "    }\n",
       "\n",
       "    .dataframe tbody tr th {\n",
       "        vertical-align: top;\n",
       "    }\n",
       "\n",
       "    .dataframe thead th {\n",
       "        text-align: right;\n",
       "    }\n",
       "</style>\n",
       "<table border=\"1\" class=\"dataframe\">\n",
       "  <thead>\n",
       "    <tr style=\"text-align: right;\">\n",
       "      <th></th>\n",
       "      <th>East Asian</th>\n",
       "      <th>East-African Indian</th>\n",
       "      <th>Euro-American</th>\n",
       "      <th>Indo-Oceanic</th>\n",
       "      <th>_M_</th>\n",
       "    </tr>\n",
       "  </thead>\n",
       "  <tbody>\n",
       "    <tr>\n",
       "      <th>0</th>\n",
       "      <td>0.997791</td>\n",
       "      <td>0.001167</td>\n",
       "      <td>0.000950</td>\n",
       "      <td>9.227265e-05</td>\n",
       "      <td>1.226658e-08</td>\n",
       "    </tr>\n",
       "    <tr>\n",
       "      <th>1</th>\n",
       "      <td>0.000570</td>\n",
       "      <td>0.028966</td>\n",
       "      <td>0.639273</td>\n",
       "      <td>1.140638e-02</td>\n",
       "      <td>3.197845e-01</td>\n",
       "    </tr>\n",
       "    <tr>\n",
       "      <th>2</th>\n",
       "      <td>0.000066</td>\n",
       "      <td>0.000162</td>\n",
       "      <td>0.999771</td>\n",
       "      <td>6.825513e-08</td>\n",
       "      <td>6.604618e-07</td>\n",
       "    </tr>\n",
       "    <tr>\n",
       "      <th>3</th>\n",
       "      <td>0.000770</td>\n",
       "      <td>0.002502</td>\n",
       "      <td>0.996714</td>\n",
       "      <td>2.879863e-06</td>\n",
       "      <td>1.054058e-05</td>\n",
       "    </tr>\n",
       "    <tr>\n",
       "      <th>4</th>\n",
       "      <td>0.000963</td>\n",
       "      <td>0.005341</td>\n",
       "      <td>0.993412</td>\n",
       "      <td>5.637785e-05</td>\n",
       "      <td>2.280389e-04</td>\n",
       "    </tr>\n",
       "  </tbody>\n",
       "</table>\n",
       "</div>"
      ],
      "text/plain": [
       "   East Asian  East-African Indian  Euro-American  Indo-Oceanic           _M_\n",
       "0    0.997791             0.001167       0.000950  9.227265e-05  1.226658e-08\n",
       "1    0.000570             0.028966       0.639273  1.140638e-02  3.197845e-01\n",
       "2    0.000066             0.000162       0.999771  6.825513e-08  6.604618e-07\n",
       "3    0.000770             0.002502       0.996714  2.879863e-06  1.054058e-05\n",
       "4    0.000963             0.005341       0.993412  5.637785e-05  2.280389e-04"
      ]
     },
     "execution_count": 14,
     "metadata": {},
     "output_type": "execute_result"
    }
   ],
   "source": [
    "model_predictions = model.predict(validation_generator, steps=len(validation_generator), verbose=1)\n",
    "pred_dataframe = pd.DataFrame(model_predictions, columns=data_labels)\n",
    "pred_dataframe.head()"
   ]
  },
  {
   "cell_type": "code",
   "execution_count": null,
   "metadata": {},
   "outputs": [],
   "source": [
    "\n",
    "plt.figure(figsize=(20,18))\n",
    "plt.subplots_adjust(hspace=0.5)\n",
    "\n",
    "# get a few random test images and their predicted labels\n",
    "for n in range(32):\n",
    "\tplt.subplot(10,10,n+1)\n",
    "\tplt.imshow(img_batch[n])\n",
    "\tplt.axis('off')\n",
    "\tcolor = \"green\" if np.argmax(labels_batch[n]) == np.argmax(model.predict(img_batch)[n]) else \"red\"\n",
    "\tplt.title(data_labels[np.argmax(model.predict(img_batch)[n])], color=color)\n",
    "\tplt.axis('off')\n",
    "\t_ = plt.suptitle(\"Model predictions (green: correct, red: incorrect)\")"
   ]
  },
  {
   "cell_type": "code",
   "execution_count": 16,
   "metadata": {},
   "outputs": [
    {
     "name": "stdout",
     "output_type": "stream",
     "text": [
      "1/1 [==============================] - 0s 20ms/step\n"
     ]
    },
    {
     "data": {
      "image/png": "[encoded data removed]",
      "text/plain": [
       "<Figure size 640x480 with 2 Axes>"
      ]
     },
     "metadata": {},
     "output_type": "display_data"
    }
   ],
   "source": [
    "# confusion matrix\n",
    "from sklearn.metrics import confusion_matrix, classification_report\n",
    "import seaborn as sns\n",
    "\n",
    "conf_matrix = confusion_matrix(np.argmax(labels_batch, axis=1), np.argmax(model.predict(img_batch), axis=1))\n",
    "sns.heatmap(conf_matrix, annot=True, fmt='d', cmap='Blues', xticklabels=data_labels, yticklabels=data_labels)\n",
    "plt.title('Confusion Matrix')\n",
    "plt.show()"
   ]
  }
 ],
 "metadata": {
  "kernelspec": {
   "display_name": "Python 3",
   "language": "python",
   "name": "python3"
  },
  "language_info": {
   "codemirror_mode": {
    "name": "ipython",
    "version": 3
   },
   "file_extension": ".py",
   "mimetype": "text/x-python",
   "name": "python",
   "nbconvert_exporter": "python",
   "pygments_lexer": "ipython3",
   "version": "3.10.7"
  }
 },
 "nbformat": 4,
 "nbformat_minor": 2
}

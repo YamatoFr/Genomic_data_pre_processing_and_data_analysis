{
 "cells": [
  {
   "cell_type": "code",
   "execution_count": 1,
   "id": "e8c1771d",
   "metadata": {},
   "outputs": [
    {
     "name": "stdout",
     "output_type": "stream",
     "text": [
      "              Class  Precision  Recall  Specificity  Accuracy\n",
      "         East Asian      0.963   0.985        0.988     0.987\n",
      "East-African Indian      0.915   0.809        0.997     0.990\n",
      "      Euro-American      0.987   0.978        0.976     0.977\n",
      "       Indo-Oceanic      0.818   0.958        0.992     0.990\n",
      "                  M      0.972   0.920        0.999     0.997\n"
     ]
    }
   ],
   "source": [
    "import pandas as pd\n",
    "import numpy as np\n",
    "\n",
    "# Confusion matrix values extracted from the image\n",
    "conf_matrix = np.array([\n",
    "\t[1627, 8, 15, 1, 0],    # East Asian\n",
    "\t[21, 216, 29, 1,  0],    # East-African Indian\n",
    "\t[36, 10, 4310, 47, 4],    # Euro-American\n",
    "\t[4,  1,  5, 248,  1],    # Indo-Oceanic\n",
    "\t[1,  1, 7, 6,  172]     # M\n",
    "])\n",
    "\n",
    "class_labels = [\"East Asian\", \"East-African Indian\", \"Euro-American\", \"Indo-Oceanic\", \"M\"]\n",
    "\n",
    "# Total number of samples\n",
    "total_samples = np.sum(conf_matrix)\n",
    "\n",
    "# Prepare lists to store the results\n",
    "results = []\n",
    "\n",
    "for i in range(len(class_labels)):\n",
    "\tTP = conf_matrix[i, i]\n",
    "\tFP = np.sum(conf_matrix[:, i]) - TP\n",
    "\tFN = np.sum(conf_matrix[i, :]) - TP\n",
    "\tTN = total_samples - TP - FP - FN\n",
    "\n",
    "\tprecision = TP / (TP + FP) if (TP + FP) > 0 else 0\n",
    "\trecall = TP / (TP + FN) if (TP + FN) > 0 else 0\n",
    "\tspecificity = TN / (TN + FP) if (TN + FP) > 0 else 0\n",
    "\taccuracy = (TP + TN) / total_samples\n",
    "\n",
    "\tresults.append({\n",
    "\t\t\"Class\": class_labels[i],\n",
    "\t\t\"Precision\": round(precision, 3),\n",
    "\t\t\"Recall\": round(recall, 3),\n",
    "\t\t\"Specificity\": round(specificity, 3),\n",
    "\t\t\"Accuracy\": round(accuracy, 3)\n",
    "\t})\n",
    "\n",
    "\tdf_results = pd.DataFrame(results)\n",
    "\n",
    "print(df_results.to_string(index=False))"
   ]
  },
  {
   "cell_type": "code",
   "execution_count": 2,
   "id": "dbfd4dd6",
   "metadata": {},
   "outputs": [
    {
     "name": "stdout",
     "output_type": "stream",
     "text": [
      "\n",
      "Average Metrics:\n",
      "Averaging Method  Precision  Recall\n",
      "   Macro-Average     0.9310  0.9300\n",
      "   Micro-Average     0.9708  0.9708\n"
     ]
    }
   ],
   "source": [
    "# Compute micro-averaged precision and recall\n",
    "TP_micro = sum(conf_matrix[i, i] for i in range(len(class_labels)))\n",
    "FP_micro = sum(np.sum(conf_matrix[:, i]) - conf_matrix[i, i] for i in range(len(class_labels)))\n",
    "FN_micro = sum(np.sum(conf_matrix[i, :]) - conf_matrix[i, i] for i in range(len(class_labels)))\n",
    "\n",
    "micro_precision = TP_micro / (TP_micro + FP_micro)\n",
    "micro_recall = TP_micro / (TP_micro + FN_micro)\n",
    "\n",
    "# Compute macro-averaged precision and recall\n",
    "macro_precision = df_results[\"Precision\"].mean()\n",
    "macro_recall = df_results[\"Recall\"].mean()\n",
    "\n",
    "# Prepare results\n",
    "average_metrics = pd.DataFrame({\n",
    "    \"Averaging Method\": [\"Macro-Average\", \"Micro-Average\"],\n",
    "    \"Precision\": [round(macro_precision, 4), round(micro_precision, 4)],\n",
    "    \"Recall\": [round(macro_recall, 4), round(micro_recall, 4)]\n",
    "})\n",
    "\n",
    "print(\"\\nAverage Metrics:\")\n",
    "print(average_metrics.to_string(index=False))\n"
   ]
  }
 ],
 "metadata": {
  "kernelspec": {
   "display_name": "Python 3",
   "language": "python",
   "name": "python3"
  },
  "language_info": {
   "codemirror_mode": {
    "name": "ipython",
    "version": 3
   },
   "file_extension": ".py",
   "mimetype": "text/x-python",
   "name": "python",
   "nbconvert_exporter": "python",
   "pygments_lexer": "ipython3",
   "version": "3.10.7"
  }
 },
 "nbformat": 4,
 "nbformat_minor": 5
}
